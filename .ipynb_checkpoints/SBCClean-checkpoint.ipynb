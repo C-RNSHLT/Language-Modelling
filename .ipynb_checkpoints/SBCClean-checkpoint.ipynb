{
 "cells": [
  {
   "cell_type": "code",
   "execution_count": 1,
   "metadata": {},
   "outputs": [],
   "source": [
    "import pandas as pd\n",
    "import numpy as np\n",
    "\n",
    "data = pd.read_csv(\"../3/Ubuntu-dialogue-corpus/dialogueText_196.csv\")"
   ]
  },
  {
   "cell_type": "code",
   "execution_count": 2,
   "metadata": {},
   "outputs": [],
   "source": [
    "text = data[\"text\"]"
   ]
  },
  {
   "cell_type": "code",
   "execution_count": null,
   "metadata": {},
   "outputs": [],
   "source": [
    "text = np.array(text, dtype=str)"
   ]
  },
  {
   "cell_type": "code",
   "execution_count": 31,
   "metadata": {},
   "outputs": [
    {
     "data": {
      "text/plain": [
       "'you might try k3b as the burning software i never really liked brassero'"
      ]
     },
     "execution_count": 31,
     "metadata": {},
     "output_type": "execute_result"
    }
   ],
   "source": [
    "b = \"you might try k3b as the burning software . .. I never really liked brassero\"\n",
    "\n",
    "cleanstring(b)"
   ]
  },
  {
   "cell_type": "code",
   "execution_count": 4,
   "metadata": {},
   "outputs": [],
   "source": [
    "def replaceMultiple(mainString):\n",
    "    dlt = ['{A',\"{C\",\"{D\",\"{E\",\"{F\",\"<<long pause>>\",\"<<pause>>\", \"<Clicking>\", \"<Laughter>\", \"<Noise>\", \"<Swallowing>\", \"<breathing>\", \"<door>\",\"<hum>\",\"<inhaling>\",\"<laughter>\",\"<lipsmack>\",\"<noise>\", \"<sigh>\", \"<smack>\",\"<sniffing>\",\"<static>\",\"<talking>\"]\n",
    "    for elem in dlt:\n",
    "        if elem in mainString:\n",
    "            mainString = mainString.replace(elem, \"\")\n",
    "    return  mainString\n",
    "\n",
    "def cleanstring(s, board=False):\n",
    "    punct = '!\"#$%&()*+,-./:;<=>?@[\\]^_`{|}~'\n",
    "    if board == True:\n",
    "        slist = [replaceMultiple(x) for x in s.split()[3:] if x != \"\"]\n",
    "    else:\n",
    "        slist = s.split()\n",
    "        for i in range(len(slist)):\n",
    "            if \".com\" in slist[i] or  \"www\" in slist[i] or \"http\" in slist[i] or \"ftp\" in slist[i]:\n",
    "                slist[i] = \"\"\n",
    "    s = \" \".join(x.translate(str.maketrans('', '', punct)).lower().strip() for x in slist if x != \"\")\n",
    "    return ' '.join(s.split())\n",
    "    \n",
    "myv = np.vectorize(cleanstring)"
   ]
  },
  {
   "cell_type": "code",
   "execution_count": 5,
   "metadata": {},
   "outputs": [],
   "source": [
    "newdata = myv(text)"
   ]
  },
  {
   "cell_type": "code",
   "execution_count": 6,
   "metadata": {},
   "outputs": [],
   "source": [
    "newdata = [n for n in newdata if n]"
   ]
  },
  {
   "cell_type": "code",
   "execution_count": 7,
   "metadata": {},
   "outputs": [],
   "source": [
    "with open(\"ubuntu.txt\", \"w\") as f:\n",
    "    f.write(\"\\n\".join(newdata))"
   ]
  },
  {
   "cell_type": "code",
   "execution_count": 21,
   "metadata": {},
   "outputs": [
    {
     "data": {
      "text/plain": [
       "array([\"hello folks please help me a bit with the following sentence 'order here your personal photos or videos' i think the only allowed version is 'order your personal videos or photos here' but i'm not sure are you\",\n",
       "       'did i choose a bad channel i ask because you seem to be dumb like windows user',\n",
       "       'the second sentence is better english and we are not dumb', ...,\n",
       "       'can i get a pastebin of someones menulst with a working dualboot with xp',\n",
       "       '', 'thanks'], dtype='<U463')"
      ]
     },
     "execution_count": 21,
     "metadata": {},
     "output_type": "execute_result"
    }
   ],
   "source": [
    "newdata"
   ]
  },
  {
   "cell_type": "code",
   "execution_count": 73,
   "metadata": {},
   "outputs": [],
   "source": [
    "from os import listdir\n",
    "from os.path import isfile, join\n",
    "\n",
    "mypath = \"../3/Switchboard/\"\n",
    "\n",
    "onlyfiles = [f for f in listdir(mypath) if isfile(join(mypath, f))]\n",
    "\n",
    "def switchboard(f):\n",
    "    with open(mypath+f, \"r\") as f:\n",
    "        l = [s for s in f if s != '\\n']\n",
    "        l = [s for s in myv(l[33:], True) if s]\n",
    "        return \"\\n\".join(l)\n",
    "\n",
    "with open('switchboard.txt',\"w\") as outfile:\n",
    "    for file in onlyfiles:\n",
    "        outfile.write(switchboard(file))\n"
   ]
  },
  {
   "cell_type": "code",
   "execution_count": 5,
   "metadata": {},
   "outputs": [],
   "source": [
    "def pickUp(filename, cleanname):\n",
    "    yeah = open(filename, \"r\")\n",
    "    lines = []\n",
    "    for line in yeah.readlines():\n",
    "        crn = []\n",
    "        words = line.split()\n",
    "        found = False\n",
    "        if len(words) < 1:\n",
    "            crn.append(\"\")\n",
    "        else:\n",
    "            for i in range(len(words)-1):\n",
    "                if found:\n",
    "                    found = False\n",
    "                    continue\n",
    "                if words[i] == \"pick\" and words[i+1] == \"up\":\n",
    "                    crn.append(\"pickup\")\n",
    "                    found = True\n",
    "                else:\n",
    "                    crn.append(words[i])\n",
    "            if words[-1] != \"up\":\n",
    "                crn.append(words[-1])\n",
    "        lines.append(crn)\n",
    "\n",
    "    for i in range(len(lines)):\n",
    "        lines[i] = \" \".join(lines[i])\n",
    "    out_file = open(cleanname, \"w\")\n",
    "    out_file.write(\"\\n\".join(lines))\n",
    "\n",
    "newpp = []\n",
    "with open(\"SBCorpus.train.txt\",\"r\") as f:\n",
    "    for line in f:\n",
    "        if line[:2] == \"no\" or line[:2] == \"ok\" or line[:2] == \"oo\":\n",
    "            newpp.append(line[2:])\n",
    "        elif line[:3] == \"yes\" or line[:3] == \"yep\" or line[:3] == \"and\":\n",
    "            newpp.append(line[3:])\n",
    "        elif line[:4] == \"yeah\" or line[:4] == \"okay\" or line[:4] == \"sure\":\n",
    "            newpp.append(line[4:])\n",
    "        else:\n",
    "            newpp.append(line)\n",
    "\n",
    "outfile = open(\"sbccleanit.txt\",\"w\")\n",
    "for line in newpp:\n",
    "    if line != \"\\n\":\n",
    "        outfile.write(line)\n",
    "\n"
   ]
  },
  {
   "cell_type": "code",
   "execution_count": 6,
   "metadata": {},
   "outputs": [],
   "source": [
    "pickUp(\"sbccleanit.txt\", \"SBCpup.txt\")"
   ]
  }
 ],
 "metadata": {
  "kernelspec": {
   "display_name": "Python 3",
   "language": "python",
   "name": "python3"
  },
  "language_info": {
   "codemirror_mode": {
    "name": "ipython",
    "version": 3
   },
   "file_extension": ".py",
   "mimetype": "text/x-python",
   "name": "python",
   "nbconvert_exporter": "python",
   "pygments_lexer": "ipython3",
   "version": "3.7.6"
  }
 },
 "nbformat": 4,
 "nbformat_minor": 4
}
