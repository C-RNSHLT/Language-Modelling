{
 "cells": [
  {
   "cell_type": "code",
   "execution_count": 66,
   "metadata": {},
   "outputs": [],
   "source": [
    "import re\n",
    "import random\n",
    "\n",
    "pp = []\n",
    "newpp = []\n",
    "\n",
    "#loading the files\n",
    "#also fixes occurences of \"pizza pizza\" to \"pizza palace\"\n",
    "\n",
    "with open(\"pp.train.txt\", \"r\") as f:\n",
    "    for line in f.readlines():\n",
    "        line = re.sub(\"pizzapizza\", \"pizza palace\", line)\n",
    "        line = re.sub(\"pizza pizza\", \"pizza palace\", line)\n",
    "        pp.append(line)\n",
    "\n",
    "#Lines contain 2 whitespace in the beginning so we need to include that when clearning okay/and\n",
    "        \n",
    "for line in pp:\n",
    "    if line[:6] == \"  okay\":\n",
    "        newpp.append(\"  \"+line[6:])\n",
    "    elif line[:5] == \"  and\":\n",
    "        newpp.append(\"  <cont>\"+line[5:])\n",
    "    else:\n",
    "        newpp.append(line)"
   ]
  },
  {
   "cell_type": "code",
   "execution_count": 53,
   "metadata": {},
   "outputs": [],
   "source": [
    "#Fucntion taken from ww.py that concatenates \"pick up\" into \"pickup\"\n",
    "\n",
    "def pickUp(filename, cleanname):\n",
    "    yeah = open(filename, \"r\")\n",
    "    lines = []\n",
    "    for line in yeah.readlines():\n",
    "        crn = []\n",
    "        words = line.split()\n",
    "        found = False\n",
    "        if len(words) < 1:\n",
    "            crn.append(\"\")\n",
    "        else:\n",
    "            for i in range(len(words)-1):\n",
    "                if found:\n",
    "                    found = False\n",
    "                    continue\n",
    "                if words[i] == \"pick\" and words[i+1] == \"up\":\n",
    "                    crn.append(\"pickup\")\n",
    "                    found = True\n",
    "                else:\n",
    "                    crn.append(words[i])\n",
    "            if words[-1] != \"up\":\n",
    "                crn.append(words[-1])\n",
    "        lines.append(crn)\n",
    "\n",
    "    for i in range(len(lines)):\n",
    "        lines[i] = \" \".join(lines[i])\n",
    "    out_file = open(cleanname, \"w\")\n",
    "    out_file.write(\"\\n\".join(lines))"
   ]
  },
  {
   "cell_type": "code",
   "execution_count": 64,
   "metadata": {},
   "outputs": [],
   "source": [
    "newpp = [n for n in newpp if n]\n",
    "with open(\"pp.train100.txt\", \"w\") as outfile:\n",
    "    for l in newpp:\n",
    "        if l != \"  \\n\":\n",
    "            outfile.write(l)"
   ]
  },
  {
   "cell_type": "code",
   "execution_count": 65,
   "metadata": {},
   "outputs": [],
   "source": [
    "pickUp('pp.train100.txt','pp.train.100.cont.pup2.txt')"
   ]
  },
  {
   "cell_type": "code",
   "execution_count": 88,
   "metadata": {},
   "outputs": [
    {
     "data": {
      "text/plain": [
       "837"
      ]
     },
     "execution_count": 88,
     "metadata": {},
     "output_type": "execute_result"
    }
   ],
   "source": [
    "\n",
    "\n",
    "\n",
    "pptrain = set()\n",
    "verizon = set()\n",
    "phonesettings = set()\n",
    "phoneplan = set()\n",
    "SBC = set()\n",
    "TM = set()\n",
    "verizonall = set()\n",
    "for line in pp:\n",
    "    for word in line.split():\n",
    "        pptrain.add(word)\n",
    "with open(\"verizontest.txt\",\"r\") as f:\n",
    "    for line in f.readlines():\n",
    "        for word in line.split():\n",
    "            verizon.add(word)\n",
    "with open(\"verizon.txt\",\"r\") as f:\n",
    "    for line in f.readlines():\n",
    "        for word in line.split():\n",
    "            verizonall.add(word)\n",
    "with open(\"phonesettings.txt\",\"r\") as f:\n",
    "    for line in f.readlines():\n",
    "        for word in line.split():\n",
    "            phonesettings.add(word)\n",
    "with open(\"phoneplan.txt\",\"r\") as f:\n",
    "    for line in f.readlines():\n",
    "        for word in line.split():\n",
    "            phoneplan.add(word)\n",
    "with open(\"SBCpup.txt\",\"r\") as f:\n",
    "    for line in f.readlines():\n",
    "        for word in line.split():\n",
    "            SBC.add(word)\n",
    "with open(\"TMpup.txt\",\"r\") as f:\n",
    "    for line in f.readlines():\n",
    "        for word in line.split():\n",
    "            TM.add(word)\n",
    "            \n",
    "            \n",
    "len(verizon - phonesettings.union(phoneplan,phonesettings,SBC))\n",
    "#len(verizon - phoneplan)"
   ]
  }
 ],
 "metadata": {
  "kernelspec": {
   "display_name": "Python 3",
   "language": "python",
   "name": "python3"
  },
  "language_info": {
   "codemirror_mode": {
    "name": "ipython",
    "version": 3
   },
   "file_extension": ".py",
   "mimetype": "text/x-python",
   "name": "python",
   "nbconvert_exporter": "python",
   "pygments_lexer": "ipython3",
   "version": "3.7.4"
  }
 },
 "nbformat": 4,
 "nbformat_minor": 4
}
