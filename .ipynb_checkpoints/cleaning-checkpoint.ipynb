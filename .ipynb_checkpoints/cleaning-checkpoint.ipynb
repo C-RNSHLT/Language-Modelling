{
 "cells": [
  {
   "cell_type": "code",
   "execution_count": 2,
   "metadata": {},
   "outputs": [],
   "source": [
    "import numpy as np\n",
    "from sklearn.model_selection import train_test_split\n",
    "from collections import Counter\n",
    "import matplotlib.pyplot as plt"
   ]
  },
  {
   "cell_type": "code",
   "execution_count": 11,
   "metadata": {},
   "outputs": [],
   "source": [
    "train_set = np.loadtxt(\"pp.train.txt\", dtype = \"str\", delimiter= \"\\n\")\n",
    "test_set = np.loadtxt(\"pp.test.txt\", dtype = \"str\", delimiter= \"\\n\")\n",
    "ubuntu_file = open(\"ubuntu.txt\", \"r\", encoding='utf-8')\n",
    "ubuntu_set = np.loadtxt(ubuntu_file, dtype = \"str\", delimiter= \"\\n\")"
   ]
  },
  {
   "cell_type": "code",
   "execution_count": 4,
   "metadata": {},
   "outputs": [
    {
     "data": {
      "text/plain": [
       "64062"
      ]
     },
     "execution_count": 4,
     "metadata": {},
     "output_type": "execute_result"
    }
   ],
   "source": [
    "train_set.size"
   ]
  },
  {
   "cell_type": "code",
   "execution_count": null,
   "metadata": {},
   "outputs": [],
   "source": []
  },
  {
   "cell_type": "code",
   "execution_count": 7,
   "metadata": {},
   "outputs": [],
   "source": [
    "def myfunc(a):\n",
    "    return a.strip()"
   ]
  },
  {
   "cell_type": "code",
   "execution_count": 8,
   "metadata": {},
   "outputs": [],
   "source": [
    "def labelNums(sentence):\n",
    "    newSentence = []\n",
    "    for i in sentence.split():\n",
    "        if i.lower() in [\"one\", \"two\", \"three\", \"four\", \"five\", \"six\", \"seven\", \"eight\", \"nine\", \"ten\",\n",
    "                        \"eleven\", \"twelve\", \"thirteen\", \"fourteen\", \"fifteen\", \"sixteen\", \"seventeen\", \"eighteen\", \"nineteen\",\n",
    "                         \"twenty\", \"thirty\", \"fourty\", \"fifty\", \"sixty\", \"seventy\", \"eighty\", \"ninety\", \"hundred\"]:\n",
    "            newSentence.append(\"<num>\")\n",
    "        else:\n",
    "            newSentence.append(i)\n",
    "    return \" \".join(newSentence)"
   ]
  },
  {
   "cell_type": "code",
   "execution_count": 9,
   "metadata": {},
   "outputs": [
    {
     "data": {
      "text/plain": [
       "\"  it's six thirty five canterbury apartment four oh six\""
      ]
     },
     "execution_count": 9,
     "metadata": {},
     "output_type": "execute_result"
    }
   ],
   "source": [
    "hue = np.vectorize(myfunc)\n",
    "#train_set\n",
    "num_labeler = np.vectorize(labelNums)\n",
    "train_set[7]"
   ]
  },
  {
   "cell_type": "code",
   "execution_count": 10,
   "metadata": {},
   "outputs": [
    {
     "data": {
      "text/plain": [
       "\"it's <num> <num> <num> canterbury apartment <num> oh <num>\""
      ]
     },
     "execution_count": 10,
     "metadata": {},
     "output_type": "execute_result"
    }
   ],
   "source": [
    "train_set = hue(train_set)\n",
    "train_set = num_labeler(train_set)\n",
    "test_set = hue(test_set)\n",
    "test_set = num_labeler(test_set)\n",
    "#train_set\n",
    "train_set[7]"
   ]
  },
  {
   "cell_type": "code",
   "execution_count": 316,
   "metadata": {},
   "outputs": [],
   "source": [
    "devSize = len(\" \".join(test_set).split(\" \")) #gives us the number of words we want in dev set"
   ]
  },
  {
   "cell_type": "code",
   "execution_count": 21,
   "metadata": {},
   "outputs": [
    {
     "data": {
      "text/plain": [
       "(0.0, 60.0)"
      ]
     },
     "execution_count": 21,
     "metadata": {},
     "output_type": "execute_result"
    },
    {
     "data": {
      "image/png": "[encoded data removed]",
      "text/plain": [
       "<Figure size 432x288 with 1 Axes>"
      ]
     },
     "metadata": {
      "needs_background": "light"
     },
     "output_type": "display_data"
    }
   ],
   "source": [
    "c = Counter([len(x) for x in ubuntu_set if len(x) < 50])\n",
    "y = list(c.values())\n",
    "x = list(c.keys())\n",
    "n = 60\n",
    "#plt.xticks([i for i in range(n)])\n",
    "plt.hist([len(x) for x in ubuntu_set], bins = [i for i in range(n*3)], density = True)\n",
    "plt.xlim(right = n, left = 0)\n",
    "c = Counter([len(x) for x in train_set if len(x) < 50])\n",
    "y = list(c.values())\n",
    "x = list(c.keys())\n",
    "n = 60\n",
    "#plt.xticks([i for i in range(n)])\n",
    "plt.hist([len(x) for x in train_set], bins = [i for i in range(n*3)], density = True)\n",
    "plt.xlim(right = n, left = 0)"
   ]
  },
  {
   "cell_type": "code",
   "execution_count": null,
   "metadata": {},
   "outputs": [],
   "source": []
  },
  {
   "cell_type": "code",
   "execution_count": 23,
   "metadata": {},
   "outputs": [
    {
     "data": {
      "text/plain": [
       "[('', 'i'),\n",
       " ('the', 'the'),\n",
       " ('you', 'to'),\n",
       " ('and', 'a'),\n",
       " ('okay', 'it'),\n",
       " ('i', 'is'),\n",
       " ('one', 'you'),\n",
       " ('uh', 'and'),\n",
       " ('a', 'in'),\n",
       " ('two', 'that'),\n",
       " ('for', 'for'),\n",
       " ('is', 'can'),\n",
       " ('pizza', 'ubuntu'),\n",
       " ('with', 'on'),\n",
       " ('so', 'have'),\n",
       " ('three', 'do'),\n",
       " ('to', 'how'),\n",
       " ('have', 'of'),\n",
       " ('yeah', 'my'),\n",
       " ('it', 'with'),\n",
       " ('your', 'but'),\n",
       " ('that', 'what'),\n",
       " ('can', 'not'),\n",
       " (\"it's\", 'there'),\n",
       " ('six', 'install')]"
      ]
     },
     "execution_count": 23,
     "metadata": {},
     "output_type": "execute_result"
    }
   ],
   "source": [
    "c = Counter(\" \".join(train_set).split(\" \"))\n",
    "hue = list(c.keys())\n",
    "hue.sort(key = lambda k: c[k], reverse = True)\n",
    "c = Counter(\" \".join(ubuntu_set).split(\" \"))\n",
    "hue2 = list(c.keys())\n",
    "hue2.sort(key = lambda k: c[k], reverse = True)\n",
    "\n",
    "\n",
    "list(zip(hue[0:25], hue2[0:25]))\n",
    "#print(c[\"<num>\"], c[\"the\"])"
   ]
  },
  {
   "cell_type": "code",
   "execution_count": 321,
   "metadata": {},
   "outputs": [],
   "source": [
    "dev = []\n",
    "dev_words = 0"
   ]
  },
  {
   "cell_type": "code",
   "execution_count": 322,
   "metadata": {},
   "outputs": [],
   "source": [
    "def findIndex(a, goal):\n",
    "    for index, ele in enumerate(a):\n",
    "        if ele == goal:\n",
    "            return index"
   ]
  },
  {
   "cell_type": "code",
   "execution_count": 323,
   "metadata": {},
   "outputs": [],
   "source": [
    "#import random\n",
    "#while dev_words < devSize:\n",
    "#    thing = random.choice(df)\n",
    "#    index = findIndex(train_set, thing)\n",
    "#    train_set = np.delete(df, index)\n",
    "#    dev.append(thing) \n",
    "#    dev_words += len(thing)"
   ]
  },
  {
   "cell_type": "code",
   "execution_count": 324,
   "metadata": {},
   "outputs": [
    {
     "name": "stdout",
     "output_type": "stream",
     "text": [
      "our creation:  0 The given testset:  2281 The given traintset:  64062\n"
     ]
    }
   ],
   "source": [
    "\n",
    "dev = np.array(dev)\n",
    "print(\"our creation: \",dev.size,\"The given testset: \", test_set.size,\"The given traintset: \", train_set.size)\n"
   ]
  },
  {
   "cell_type": "code",
   "execution_count": 325,
   "metadata": {},
   "outputs": [],
   "source": [
    "ratio = test_set.size/train_set.size\n",
    "new_train, dev_set = train_test_split(train_set, test_size = ratio)"
   ]
  },
  {
   "cell_type": "code",
   "execution_count": 326,
   "metadata": {},
   "outputs": [],
   "source": [
    "with open(\"pp_dev_set.txt\", \"w\") as outfile:\n",
    "    for line in dev_set:\n",
    "        outfile.write(line + \"\\n\")"
   ]
  },
  {
   "cell_type": "code",
   "execution_count": 327,
   "metadata": {},
   "outputs": [],
   "source": [
    "with open(\"pp_train_set.txt\", \"w\") as outfile:\n",
    "    for line in train_set:\n",
    "        outfile.write(line + \"\\n\")"
   ]
  },
  {
   "cell_type": "code",
   "execution_count": null,
   "metadata": {},
   "outputs": [],
   "source": [
    "with open(\"pp_test_set.txt\", \"w\") as outfile:\n",
    "    for line in test_set:\n",
    "        outfile.write(line + \"\\n\")"
   ]
  }
 ],
 "metadata": {
  "kernelspec": {
   "display_name": "Python 3",
   "language": "python",
   "name": "python3"
  },
  "language_info": {
   "codemirror_mode": {
    "name": "ipython",
    "version": 3
   },
   "file_extension": ".py",
   "mimetype": "text/x-python",
   "name": "python",
   "nbconvert_exporter": "python",
   "pygments_lexer": "ipython3",
   "version": "3.7.4"
  }
 },
 "nbformat": 4,
 "nbformat_minor": 4
}
