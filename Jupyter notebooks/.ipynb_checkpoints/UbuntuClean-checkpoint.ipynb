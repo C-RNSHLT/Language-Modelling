{
 "cells": [
  {
   "cell_type": "code",
   "execution_count": 1,
   "metadata": {},
   "outputs": [],
   "source": [
    "import pandas as pd\n",
    "import numpy as np"
   ]
  },
  {
   "cell_type": "markdown",
   "metadata": {},
   "source": [
    "# Load the Ubuntu data into pandas, and then into a numpy array"
   ]
  },
  {
   "cell_type": "code",
   "execution_count": 2,
   "metadata": {},
   "outputs": [],
   "source": [
    "data = pd.read_csv(\"../3/Ubuntu-dialogue-corpus/dialogueText_196.csv\")\n",
    "text = data[\"text\"]\n",
    "text = np.array(text, dtype=str)"
   ]
  },
  {
   "cell_type": "code",
   "execution_count": 4,
   "metadata": {},
   "outputs": [],
   "source": [
    "def cleanstring(s):\n",
    "    \"\"\"Removes all websites and all punctuation\"\"\"\n",
    "    \n",
    "    punct = '!\"#$%&()*+,-./:;<=>?@[\\]^_`{|}~'\n",
    "    slist = s.split()\n",
    "    for i in range(len(slist)):\n",
    "        if \".com\" in slist[i] or  \"www\" in slist[i] or \"http\" in slist[i] or \"ftp\" in slist[i]:\n",
    "            slist[i] = \"\"\n",
    "    s = \" \".join(x.translate(str.maketrans('', '', punct)).lower().strip() for x in slist if x != \"\")\n",
    "    return ' '.join(s.split())\n",
    "    \n",
    "myv = np.vectorize(cleanstring)"
   ]
  },
  {
   "cell_type": "code",
   "execution_count": 5,
   "metadata": {},
   "outputs": [],
   "source": [
    "newdata = myv(text)\n",
    "#Removing empty lines from the data\n",
    "newdata = [n for n in newdata if n]"
   ]
  },
  {
   "cell_type": "code",
   "execution_count": 7,
   "metadata": {},
   "outputs": [],
   "source": [
    "#Writing the data to a file\n",
    "with open(\"ubuntu.txt\", \"w\") as f:\n",
    "    f.write(\"\\n\".join(newdata))"
   ]
  }
 ],
 "metadata": {
  "kernelspec": {
   "display_name": "Python 3",
   "language": "python",
   "name": "python3"
  },
  "language_info": {
   "codemirror_mode": {
    "name": "ipython",
    "version": 3
   },
   "file_extension": ".py",
   "mimetype": "text/x-python",
   "name": "python",
   "nbconvert_exporter": "python",
   "pygments_lexer": "ipython3",
   "version": "3.7.6"
  }
 },
 "nbformat": 4,
 "nbformat_minor": 4
}
