{
 "cells": [
  {
   "cell_type": "markdown",
   "metadata": {},
   "source": [
    "# Cleaning of the Meta-Learning Wizard-of-Oz phone support datasets"
   ]
  },
  {
   "cell_type": "code",
   "execution_count": null,
   "metadata": {},
   "outputs": [],
   "source": [
    "import re\n",
    "import ast\n",
    "from num2words import num2words\n",
    "import numpy as np\n",
    "import random\n",
    "\n",
    "def clean_data(s):\n",
    "    punct = '!\"#$%&()*+,-./:;<=>?@[\\]^_`{|}~'\n",
    "    slist = s.split() \n",
    "    s = \" \".join(x.translate(str.maketrans('', '', punct)).lower().strip() for x in slist if x != \"\")\n",
    "    return ' '.join(s.split())\n",
    "\n",
    "def cleanPM(w):\n",
    "    t = []\n",
    "    if \":\" in w:\n",
    "        w = w.split(\":\")\n",
    "    for i in w:\n",
    "        if i.isnumeric():\n",
    "            t.append(num2words(int(i)).replace(\"-\",\" \"))\n",
    "    return t\n",
    "\n",
    "myv = np.vectorize(clean_data)\n",
    "infile = open(\"PHONE_PLAN_BOT.TXT\", \"r\")\n",
    "f = open(\"PHONE_SETTINGS.txt\", \"r\")\n",
    "phonesettings = []\n",
    "phoneplan = []\n",
    "lines = []\n",
    "for line in infile.readlines():\n",
    "    phoneplan.extend(ast.literal_eval(line)['turns'])\n",
    "for line in f.readlines():\n",
    "    phonesettings.extend(ast.literal_eval(line)['turns'])\n",
    "    \n",
    "for line in phoneplan:\n",
    "    temp = []\n",
    "    for word in line.split():\n",
    "        word = word.lower()\n",
    "        if word:\n",
    "            if re.search(r\"\\d+[:]{0,1}\\d+mb\", word):\n",
    "                temp.extend(cleanPM(word[:-2]))\n",
    "                temp.append(\"mb\")\n",
    "            elif re.search(r\"\\d+[:]{0,1}\\d+gb\", word):\n",
    "                temp.extend(cleanPM(word[:-2]))\n",
    "                temp.append(\"gb\")\n",
    "            elif word.isnumeric():\n",
    "                temp.append(num2words(int(word)).replace(\"-\",\" \"))\n",
    "            elif re.search(r\"[!#$%&()+,-.\\/:;<=>?@_`~']{0,2}\\d+[!#$%&()+,-.\\/:;<=>?@`~']{0,2}\\d+[!#$%&()*+,-.\\/:;<=>?@`~']{0,2}\", word):\n",
    "                word = re.sub(r'[!\"#$%&()\\*,-./:;<=>?@^_`{|}~]', \" \", word)\n",
    "                temp.extend(cleanPM(word))\n",
    "            else:\n",
    "                temp.append(word)\n",
    "    lines.append(\" \".join(temp))\n",
    "    \n",
    "phoneplanclean = myv(lines)"
   ]
  },
  {
   "cell_type": "code",
   "execution_count": 29,
   "metadata": {},
   "outputs": [],
   "source": [
    "lines2 = []\n",
    "for line in phonesettings:\n",
    "    temp = []\n",
    "    for word in line.split():\n",
    "        word = word.lower()\n",
    "        if word:\n",
    "            if re.search(r\"\\d+[:]{0,1}\\d+mb\", word):\n",
    "                temp.extend(cleanPM(word[:-2]))\n",
    "                temp.append(\"mb\")\n",
    "            elif re.search(r\"\\d+[:]{0,1}\\d+gb\", word):\n",
    "                temp.extend(cleanPM(word[:-2]))\n",
    "                temp.append(\"gb\")\n",
    "            elif word.isnumeric():\n",
    "                temp.append(num2words(int(word)).replace(\"-\",\" \"))\n",
    "            elif re.search(r\"[!#$%&()+,-.\\/:;<=>?@_`~']{0,2}\\d+[!#$%&()+,-.\\/:;<=>?@`~']{0,2}\\d+[!#$%&()*+,-.\\/:;<=>?@`~']{0,2}\", word):\n",
    "                word = re.sub(r'[!\"#$%&()\\*,-./:;<=>?@^_`{|}~]', \" \", word)\n",
    "                temp.extend(cleanPM(word))\n",
    "            else:\n",
    "                temp.append(word)\n",
    "    lines2.append(\" \".join(temp))\n",
    "    \n",
    "phonesettingsclean = myv(lines2)"
   ]
  },
  {
   "cell_type": "code",
   "execution_count": 20,
   "metadata": {},
   "outputs": [],
   "source": [
    "with open(\"phoneplan.txt\",\"w\") as f:\n",
    "    for line in phoneplanclean:\n",
    "        f.write(line+\"\\n\")"
   ]
  },
  {
   "cell_type": "code",
   "execution_count": 30,
   "metadata": {},
   "outputs": [],
   "source": [
    "with open(\"phonesettings.txt\",\"w\") as f:\n",
    "    for line in phonesettingsclean:\n",
    "        f.write(line+\"\\n\")"
   ]
  },
  {
   "cell_type": "code",
   "execution_count": 10,
   "metadata": {},
   "outputs": [],
   "source": [
    "# Cleaning the test set for number consistency, so all numbers are in letters instead of a mix and match\n",
    "\n",
    "f = open(\"customer support test set.txt\", \"r\")\n",
    "test = []\n",
    "\n",
    "for line in f:\n",
    "    sentence = []\n",
    "    for word in line.split():\n",
    "        if word.isnumeric():\n",
    "            sentence.append(num2words(int(word)))\n",
    "        elif word == \"0z\" or word == \"0o\":\n",
    "            sentence.append(\"zero\")\n",
    "        else:\n",
    "            sentence.append(word)\n",
    "    test.append(\" \".join(sentence))\n",
    "    \n",
    "outfile = open(\"verizon.txt\", \"w\")\n",
    "\n",
    "for line in test:\n",
    "    outfile.write(line)"
   ]
  }
 ],
 "metadata": {
  "kernelspec": {
   "display_name": "Python 3",
   "language": "python",
   "name": "python3"
  },
  "language_info": {
   "codemirror_mode": {
    "name": "ipython",
    "version": 3
   },
   "file_extension": ".py",
   "mimetype": "text/x-python",
   "name": "python",
   "nbconvert_exporter": "python",
   "pygments_lexer": "ipython3",
   "version": "3.7.6"
  }
 },
 "nbformat": 4,
 "nbformat_minor": 4
}
