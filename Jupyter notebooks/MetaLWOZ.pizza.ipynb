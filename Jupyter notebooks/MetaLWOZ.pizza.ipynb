{
 "cells": [
  {
   "cell_type": "markdown",
   "metadata": {},
   "source": [
    "# Cleaning of the Meta-Learning Wizard-of-Oz pizza ordering dataset"
   ]
  },
  {
   "cell_type": "code",
   "execution_count": null,
   "metadata": {},
   "outputs": [],
   "source": [
    "import re\n",
    "import ast\n",
    "from num2words import num2words\n",
    "import numpy as np\n",
    "\n",
    "def clean_data(s):\n",
    "    punct = '!\"#$%&()*+,-./:;<=>?@[\\]^_`{|}~'\n",
    "    slist = s.split() \n",
    "    s = \" \".join(x.translate(str.maketrans('', '', punct)).lower().strip() for x in slist if x != \"\")\n",
    "    return ' '.join(s.split())\n",
    "\n",
    "def cleanPM(w):\n",
    "    t = []\n",
    "    if \":\" in w:\n",
    "        w = w.split(\":\")\n",
    "    for i in w:\n",
    "        if i.isnumeric():\n",
    "            t.append(num2words(int(i)).replace(\"-\",\" \"))\n",
    "    return t\n",
    "\n",
    "def pickUp(filename, cleanname):\n",
    "    yeah = open(filename, \"r\")\n",
    "    lines = []\n",
    "    for line in yeah.readlines():\n",
    "        crn = []\n",
    "        words = line.split()\n",
    "        found = False\n",
    "        if len(words) < 1:\n",
    "            crn.append(\"\")\n",
    "        else:\n",
    "            for i in range(len(words)-1):\n",
    "                if found:\n",
    "                    found = False\n",
    "                    continue\n",
    "                if words[i] == \"pick\" and words[i+1] == \"up\":\n",
    "                    crn.append(\"pickup\")\n",
    "                    found = True\n",
    "                else:\n",
    "                    crn.append(words[i])\n",
    "            if words[-1] != \"up\":\n",
    "                crn.append(words[-1])\n",
    "        lines.append(crn)\n",
    "\n",
    "    for i in range(len(lines)):\n",
    "        lines[i] = \" \".join(lines[i])\n",
    "    out_file = open(cleanname, \"w\")\n",
    "    out_file.write(\"\\n\".join(lines))\n",
    "\n",
    "myv = np.vectorize(clean_data)"
   ]
  },
  {
   "cell_type": "code",
   "execution_count": 14,
   "metadata": {},
   "outputs": [],
   "source": [
    "infile = open(\"ORDER_PIZZA.TXT\", \"r\")\n",
    "pizza = []\n",
    "woz = []\n",
    "\n",
    "for line in infile.readlines():\n",
    "    pizza.extend(ast.literal_eval(line)['turns'])\n",
    "\n",
    "for line in pizza:\n",
    "    temp = []\n",
    "    for word in line.split():\n",
    "        word = word.lower()\n",
    "        if word and word != \"(deleted)\":\n",
    "            if re.search(r\"\\d+[:]{0,1}\\d+pm\", word):\n",
    "                temp.extend(cleanPM(word[:-2]))\n",
    "                temp.append(\"p m\")\n",
    "            elif word.isnumeric():\n",
    "                temp.append(num2words(int(word)).replace(\"-\",\" \"))\n",
    "            elif re.search(r\"[!#$%&()+,-.\\/:;<=>?@_`~']{0,2}\\d+[!#$%&()+,-.\\/:;<=>?@`~']{0,2}\\d+[!#$%&()*+,-.\\/:;<=>?@`~']{0,2}\", word):\n",
    "                word = re.sub(r'[!\"#$%&()\\*,-./:;<=>?@^_`{|}~]', \" \", word)\n",
    "                temp.extend(cleanPM(word))\n",
    "            elif word.lower() == \"pm\" or word.lower() == \"am\":\n",
    "                temp.append(\"p m\")\n",
    "            else:\n",
    "                temp.append(word)\n",
    "    woz.append(\" \".join(temp))\n",
    "    \n",
    "pizzaclean = myv(woz)"
   ]
  },
  {
   "cell_type": "code",
   "execution_count": 15,
   "metadata": {},
   "outputs": [],
   "source": [
    "newpp = []\n",
    "for line in pizzaclean:\n",
    "    if len(line) == 2 and (line[:2] == \"no\" or line[:2] == \"ok\"):\n",
    "        continue\n",
    "    elif line[:3] == \"yes\" or line[:3] == \"yep\" or line[:3] == \"and\":\n",
    "        newpp.append(line[3:])\n",
    "    elif line[:4] == \"yeah\" or line[:4] == \"okay\" or line[:4] == \"sure\":\n",
    "        newpp.append(line[4:])\n",
    "    elif line[:3] == \"no \" or line[:3] == \"ok \":\n",
    "        newpp.append(line[3:])\n",
    "    else:\n",
    "        newpp.append(line)\n",
    "\n",
    "newpp = [n for n in newpp if n]"
   ]
  },
  {
   "cell_type": "code",
   "execution_count": 16,
   "metadata": {},
   "outputs": [],
   "source": [
    "with open(\"woz.txt\", \"w\") as outfile:\n",
    "    for line in newpp:\n",
    "        outfile.write(line+\"\\n\")"
   ]
  },
  {
   "cell_type": "code",
   "execution_count": 17,
   "metadata": {},
   "outputs": [],
   "source": [
    "pickUp('woz.txt','wozpup.txt')"
   ]
  }
 ],
 "metadata": {
  "kernelspec": {
   "display_name": "Python 3",
   "language": "python",
   "name": "python3"
  },
  "language_info": {
   "codemirror_mode": {
    "name": "ipython",
    "version": 3
   },
   "file_extension": ".py",
   "mimetype": "text/x-python",
   "name": "python",
   "nbconvert_exporter": "python",
   "pygments_lexer": "ipython3",
   "version": "3.7.6"
  }
 },
 "nbformat": 4,
 "nbformat_minor": 4
}
