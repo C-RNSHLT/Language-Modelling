{
 "cells": [
  {
   "cell_type": "markdown",
   "metadata": {},
   "source": [
    "#### Takes every dataset we could get our hands on at looks at the list of unique words they cover. We then check against the verizon dataset to look at how many words are out of the vocabulary"
   ]
  },
  {
   "cell_type": "code",
   "execution_count": 1,
   "metadata": {},
   "outputs": [
    {
     "ename": "NameError",
     "evalue": "name 'pp' is not defined",
     "output_type": "error",
     "traceback": [
      "\u001b[1;31m---------------------------------------------------------------------------\u001b[0m",
      "\u001b[1;31mNameError\u001b[0m                                 Traceback (most recent call last)",
      "\u001b[1;32m<ipython-input-1-55e82d3dd0eb>\u001b[0m in \u001b[0;36m<module>\u001b[1;34m\u001b[0m\n\u001b[0;32m      7\u001b[0m \u001b[0mverizonall\u001b[0m \u001b[1;33m=\u001b[0m \u001b[0mset\u001b[0m\u001b[1;33m(\u001b[0m\u001b[1;33m)\u001b[0m\u001b[1;33m\u001b[0m\u001b[1;33m\u001b[0m\u001b[0m\n\u001b[0;32m      8\u001b[0m \u001b[0mubuntu\u001b[0m \u001b[1;33m=\u001b[0m \u001b[0mset\u001b[0m\u001b[1;33m(\u001b[0m\u001b[1;33m)\u001b[0m\u001b[1;33m\u001b[0m\u001b[1;33m\u001b[0m\u001b[0m\n\u001b[1;32m----> 9\u001b[1;33m \u001b[1;32mfor\u001b[0m \u001b[0mline\u001b[0m \u001b[1;32min\u001b[0m \u001b[0mpp\u001b[0m\u001b[1;33m:\u001b[0m\u001b[1;33m\u001b[0m\u001b[1;33m\u001b[0m\u001b[0m\n\u001b[0m\u001b[0;32m     10\u001b[0m     \u001b[1;32mfor\u001b[0m \u001b[0mword\u001b[0m \u001b[1;32min\u001b[0m \u001b[0mline\u001b[0m\u001b[1;33m.\u001b[0m\u001b[0msplit\u001b[0m\u001b[1;33m(\u001b[0m\u001b[1;33m)\u001b[0m\u001b[1;33m:\u001b[0m\u001b[1;33m\u001b[0m\u001b[1;33m\u001b[0m\u001b[0m\n\u001b[0;32m     11\u001b[0m         \u001b[0mpptrain\u001b[0m\u001b[1;33m.\u001b[0m\u001b[0madd\u001b[0m\u001b[1;33m(\u001b[0m\u001b[0mword\u001b[0m\u001b[1;33m)\u001b[0m\u001b[1;33m\u001b[0m\u001b[1;33m\u001b[0m\u001b[0m\n",
      "\u001b[1;31mNameError\u001b[0m: name 'pp' is not defined"
     ]
    }
   ],
   "source": [
    "pptrain = set()\n",
    "verizon = set()\n",
    "phonesettings = set()\n",
    "phoneplan = set()\n",
    "SBC = set()\n",
    "TM = set()\n",
    "verizonall = set()\n",
    "ubuntu = set()\n",
    "for line in pp:\n",
    "    for word in line.split():\n",
    "        pptrain.add(word)\n",
    "with open(\"verizonall.txt\",\"r\") as f:\n",
    "    for line in f.readlines():\n",
    "        for word in line.split():\n",
    "            verizonall.add(word)\n",
    "with open(\"phonesettings.txt\",\"r\") as f:\n",
    "    for line in f.readlines():\n",
    "        for word in line.split():\n",
    "            phonesettings.add(word)\n",
    "with open(\"phoneplan.txt\",\"r\") as f:\n",
    "    for line in f.readlines():\n",
    "        for word in line.split():\n",
    "            phoneplan.add(word)\n",
    "with open(\"SBCpup.txt\",\"r\") as f:\n",
    "    for line in f.readlines():\n",
    "        for word in line.split():\n",
    "            SBC.add(word)\n",
    "with open(\"TMpup.txt\",\"r\") as f:\n",
    "    for line in f.readlines():\n",
    "        for word in line.split():\n",
    "            TM.add(word)\n",
    "with open(\"ubuntu.txt\",\"r\") as f:\n",
    "    for line in f.readlines():\n",
    "        for word in line.split():\n",
    "            ubuntu.add(word)\n",
    "\n",
    "len(verizonall - phoneplan.union(phonesettings,ubuntu))"
   ]
  },
  {
   "cell_type": "code",
   "execution_count": null,
   "metadata": {},
   "outputs": [],
   "source": []
  }
 ],
 "metadata": {
  "kernelspec": {
   "display_name": "Python 3",
   "language": "python",
   "name": "python3"
  },
  "language_info": {
   "codemirror_mode": {
    "name": "ipython",
    "version": 3
   },
   "file_extension": ".py",
   "mimetype": "text/x-python",
   "name": "python",
   "nbconvert_exporter": "python",
   "pygments_lexer": "ipython3",
   "version": "3.7.4"
  }
 },
 "nbformat": 4,
 "nbformat_minor": 4
}
