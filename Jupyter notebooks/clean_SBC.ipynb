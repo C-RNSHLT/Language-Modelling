{
 "cells": [
  {
   "cell_type": "markdown",
   "metadata": {},
   "source": [
    "# Cleaning of the Santa Barbara Corpus of American English"
   ]
  },
  {
   "cell_type": "code",
   "execution_count": null,
   "metadata": {},
   "outputs": [],
   "source": [
    "import numpy as np\n",
    "import re\n",
    "from os import listdir\n",
    "from os.path import isfile, join"
   ]
  },
  {
   "cell_type": "markdown",
   "metadata": {},
   "source": [
    "# Helper functions to clean the data:"
   ]
  },
  {
   "cell_type": "code",
   "execution_count": 213,
   "metadata": {},
   "outputs": [],
   "source": [
    "regex = r\"[!\\\"#$%&()*+,-.\\/:;<=>?@[\\]^_`{|}~\\d]\"\n",
    "regex_white = r\"[\\s]+\"\n",
    "def clean_data(s):\n",
    "    \"\"\"Removes all specific tags from the transcription, like (SNIFF), (Hx), etc. and removes all punctuation\"\"\"\n",
    "    line = []\n",
    "    for word in re.sub(regex_white, \" \" ,re.sub(regex, \"\", s)).split():\n",
    "        if (word == word.upper() and word.lower not in [\"i\", \"a\", \"hiv\"]) or word in [\"Hx\"]:\n",
    "            continue\n",
    "        else:\n",
    "            line.append(word)\n",
    "    return \" \".join(line).strip()\n",
    "        \n",
    "def clean_file(elem):\n",
    "    '''Cleans the transcription file consisting of initial and end time for each line, name of the person speaking and text uttered.\n",
    "    Removes >ENV lines (which explain situations and not actual utterances) and collapses multi-line sentences into one line.'''\n",
    "    cleaned = []\n",
    "    person = []\n",
    "    first = True\n",
    "    for line in elem:\n",
    "        try:\n",
    "            nums, name, text = line.split(\"\\t\")\n",
    "        except:\n",
    "            continue\n",
    "\n",
    "        if name.strip() == \">ENV\":\n",
    "            continue\n",
    "\n",
    "        elif name.strip() != \"\":\n",
    "            if first == True:\n",
    "                first  = False\n",
    "                person =[]\n",
    "                person.append(clean_data(text.strip()))\n",
    "\n",
    "            else:\n",
    "                cleaned.append(\" \".join(person))\n",
    "                person =[]\n",
    "                person.append(clean_data(text.strip()))\n",
    "\n",
    "        elif name.strip() == \"\":\n",
    "            person.append(clean_data(text.strip()))\n",
    "    return cleaned \n",
    "\n",
    "def pickUp(filename, cleanname):\n",
    "    \"\"\"Replaces all instances of 'pick up' to 'pickup' for consistency\"\"\"\n",
    "    yeah = open(filename, \"r\")\n",
    "    lines = []\n",
    "    for line in yeah.readlines():\n",
    "        crn = []\n",
    "        words = line.split()\n",
    "        found = False\n",
    "        if len(words) < 1:\n",
    "            crn.append(\"\")\n",
    "        else:\n",
    "            for i in range(len(words)-1):\n",
    "                if found:\n",
    "                    found = False\n",
    "                    continue\n",
    "                if words[i] == \"pick\" and words[i+1] == \"up\":\n",
    "                    crn.append(\"pickup\")\n",
    "                    found = True\n",
    "                else:\n",
    "                    crn.append(words[i])\n",
    "            if words[-1] != \"up\":\n",
    "                crn.append(words[-1])\n",
    "        lines.append(crn)\n",
    "\n",
    "    for i in range(len(lines)):\n",
    "        lines[i] = \" \".join(lines[i])\n",
    "    out_file = open(cleanname, \"w\")\n",
    "    out_file.write(\"\\n\".join(lines))"
   ]
  },
  {
   "cell_type": "markdown",
   "metadata": {},
   "source": [
    "### We go through all files in the SBCCorpus transcriptions directory, clean them and add them to a list:"
   ]
  },
  {
   "cell_type": "code",
   "execution_count": 216,
   "metadata": {},
   "outputs": [],
   "source": [
    "cleaned_text = []\n",
    "clean_SBC = []\n",
    "path_files = \"SBCorpus/TRN\"\n",
    "files = [f for f in listdir(path_files) if isfile(join(path_files, f))]\n",
    "\n",
    "for file in files:\n",
    "    SBC = np.loadtxt(\"SBCorpus/TRN/{}\".format(file), dtype = \"str\", delimiter= \"\\n\")\n",
    "    cleaned_text += clean_file(SBC)\n",
    "\n",
    "#Removing beginning words that our model was over predicting\n",
    "for line in cleaned_text:\n",
    "    if line[:2] == \"no\" or line[:2] == \"ok\" or line[:2] == \"oo\":\n",
    "        clean_SBC.append(line[2:])\n",
    "    elif line[:3] == \"yes\" or line[:3] == \"yep\" or line[:3] == \"and\":\n",
    "        clean_SBC.append(line[3:])\n",
    "    elif line[:4] == \"yeah\" or line[:4] == \"okay\" or line[:4] == \"sure\":\n",
    "        clean_SBC.append(line[4:])\n",
    "    else:\n",
    "        clean_SBC.append(line)"
   ]
  },
  {
   "cell_type": "code",
   "execution_count": 219,
   "metadata": {},
   "outputs": [],
   "source": [
    "# Writes the SBC cleaned data list into a .txt file, all lower case\n",
    "with open(\"SBCorpus.train.txt\", \"w\") as outfile:\n",
    "    for line in clean_SBC:\n",
    "        if line.strip() != \"\":\n",
    "            outfile.write(line.lower() + \"\\n\")"
   ]
  },
  {
   "cell_type": "code",
   "execution_count": null,
   "metadata": {},
   "outputs": [],
   "source": [
    "#Replacing all instances of 'pick up' to 'pickup' for consistency\n",
    "pickUp(\"SBCorpus.train.txt\",\"SBCpup.txt\")"
   ]
  }
 ],
 "metadata": {
  "kernelspec": {
   "display_name": "Python 3",
   "language": "python",
   "name": "python3"
  },
  "language_info": {
   "codemirror_mode": {
    "name": "ipython",
    "version": 3
   },
   "file_extension": ".py",
   "mimetype": "text/x-python",
   "name": "python",
   "nbconvert_exporter": "python",
   "pygments_lexer": "ipython3",
   "version": "3.7.6"
  }
 },
 "nbformat": 4,
 "nbformat_minor": 4
}
